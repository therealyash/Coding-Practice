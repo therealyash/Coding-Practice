{
 "cells": [
  {
   "cell_type": "markdown",
   "id": "7cc9afe3",
   "metadata": {},
   "source": [
    "### LeetCode Problems - Easy Level"
   ]
  },
  {
   "cell_type": "markdown",
   "id": "a855e22f",
   "metadata": {},
   "source": [
    "#### 01-01-2023"
   ]
  },
  {
   "cell_type": "markdown",
   "id": "6b38379f",
   "metadata": {},
   "source": [
    "Given an array of integers nums and an integer target, return indices of the two numbers such that they add up to target.\n",
    "You may assume that each input would have exactly one solution, and you may not use the same element twice.\n",
    "You can return the answer in any order.\n",
    "\n",
    "Example 1:\n",
    "\n",
    "Input: nums = [2,7,11,15], target = 9\n",
    "Output: [0,1]\n",
    "Explanation: Because nums[0] + nums[1] == 9, we return [0, 1].\n",
    "Example 2:\n",
    "\n",
    "Input: nums = [3,2,4], target = 6\n",
    "Output: [1,2]\n",
    "Example 3:\n",
    "\n",
    "Input: nums = [3,3], target = 6\n",
    "Output: [0,1]\n",
    "\n",
    "Follow-up: Can you come up with an algorithm that is less than O(n2) time complexity?"
   ]
  },
  {
   "cell_type": "code",
   "execution_count": 3,
   "id": "d8064fae",
   "metadata": {},
   "outputs": [
    {
     "data": {
      "text/plain": [
       "[2, 3]"
      ]
     },
     "execution_count": 3,
     "metadata": {},
     "output_type": "execute_result"
    }
   ],
   "source": [
    "class Solution(object):\n",
    "    \n",
    "    def twoSum(self, nums, target):\n",
    "        \"\"\"\n",
    "        :type nums: List[int]\n",
    "        :type target: int\n",
    "        :rtype: List[int]\n",
    "        \"\"\"\n",
    "        for i in range(len(nums)):\n",
    "            for j in range(i + 1, len(nums)):\n",
    "                if nums[j] == target - nums[i]:\n",
    "                    return [i, j]     \n",
    "s1 = Solution()\n",
    "lst = [2,7,11,15]\n",
    "target = 26\n",
    "s1.twoSum(lst,target)"
   ]
  },
  {
   "cell_type": "markdown",
   "id": "26712b0a",
   "metadata": {},
   "source": [
    "#### 02-01-2023"
   ]
  },
  {
   "cell_type": "markdown",
   "id": "1acd507f",
   "metadata": {},
   "source": [
    "520. Detect Capital\n",
    "Easy\n",
    "2.4K\n",
    "406\n",
    "Companies\n",
    "We define the usage of capitals in a word to be right when one of the following cases holds:\n",
    "\n",
    "All letters in this word are capitals, like \"USA\".\n",
    "All letters in this word are not capitals, like \"leetcode\".\n",
    "Only the first letter in this word is capital, like \"Google\".\n",
    "Given a string word, return true if the usage of capitals in it is right.\n",
    "\n",
    " \n",
    "\n",
    "Example 1:\n",
    "\n",
    "Input: word = \"USA\"\n",
    "Output: true\n",
    "Example 2:\n",
    "\n",
    "Input: word = \"FlaG\"\n",
    "Output: false\n",
    " \n",
    "\n",
    "Constraints:\n",
    "\n",
    "1 <= word.length <= 100\n",
    "word consists of lowercase and uppercase English letters."
   ]
  },
  {
   "cell_type": "code",
   "execution_count": 4,
   "id": "c4ff6cee",
   "metadata": {},
   "outputs": [
    {
     "name": "stdout",
     "output_type": "stream",
     "text": [
      "Enter a String: Yash\n",
      "False\n"
     ]
    }
   ],
   "source": [
    "class Solution(object):\n",
    "    def detectCapitalUse(self, word):\n",
    "        \"\"\"\n",
    "        :type word: str\n",
    "        :rtype: bool\n",
    "        \"\"\"\n",
    "        if word.isupper():\n",
    "            return True\n",
    "        elif word.islower():\n",
    "            return True\n",
    "        else:\n",
    "            return False\n",
    "s = input('Enter a String: ')\n",
    "a = Solution()\n",
    "print(a.detectCapitalUse(s))"
   ]
  },
  {
   "cell_type": "markdown",
   "id": "a9e99eba-0925-40af-8c39-04b4b10c570b",
   "metadata": {},
   "source": [
    "#### 03-01-23"
   ]
  },
  {
   "cell_type": "markdown",
   "id": "a06f9286-a696-4e72-99b9-b90417260961",
   "metadata": {},
   "source": [
    "You are given an array of n strings strs, all of the same length.\n",
    "\n",
    "The strings can be arranged such that there is one on each line, making a grid. For example, strs = [\"abc\", \"bce\", \"cae\"] can be arranged as:\n",
    "\n",
    "abc\n",
    "bce\n",
    "cae\n",
    "You want to delete the columns that are not sorted lexicographically. In the above example (0-indexed), columns 0 ('a', 'b', 'c') and 2 ('c', 'e', 'e') are sorted while column 1 ('b', 'c', 'a') is not, so you would delete column 1.\n",
    "\n",
    "Return the number of columns that you will delete.\n",
    "\n",
    " \n",
    "\n",
    "Example 1:\n",
    "\n",
    "Input: strs = [\"cba\",\"daf\",\"ghi\"]\n",
    "Output: 1\n",
    "Explanation: The grid looks as follows:\n",
    "  cba\n",
    "  daf\n",
    "  ghi\n",
    "Columns 0 and 2 are sorted, but column 1 is not, so you only need to delete 1 column.\n",
    "Example 2:\n",
    "\n",
    "Input: strs = [\"a\",\"b\"]\n",
    "Output: 0\n",
    "Explanation: The grid looks as follows:\n",
    "  a\n",
    "  b\n",
    "Column 0 is the only column and is sorted, so you will not delete any columns.\n",
    "Example 3:\n",
    "\n",
    "Input: strs = [\"zyx\",\"wvu\",\"tsr\"]\n",
    "Output: 3\n",
    "Explanation: The grid looks as follows:\n",
    "  zyx\n",
    "  wvu\n",
    "  tsr\n",
    "All 3 columns are not sorted, so you will delete all 3.\n",
    " \n",
    "\n",
    "Constraints:\n",
    "\n",
    "n == strs.length\n",
    "1 <= n <= 100\n",
    "1 <= strs[i].length <= 1000\n",
    "strs[i] consists of lowercase English letters."
   ]
  },
  {
   "cell_type": "code",
   "execution_count": 3,
   "id": "60c1647b-3933-4732-bfd2-ba65be5d04a0",
   "metadata": {},
   "outputs": [
    {
     "name": "stdout",
     "output_type": "stream",
     "text": [
      "1\n"
     ]
    }
   ],
   "source": [
    "class Solution:\n",
    "    def minDeletionSize(self, A):\n",
    "        \"\"\"\n",
    "        :type A: List[str]\n",
    "        :rtype: int\n",
    "        \"\"\"\n",
    "        s = 0\n",
    "        for i in range(len(A[0])):\n",
    "            for j in range(len(A)-1):\n",
    "                if A[j][i] > A[j+1][i]:\n",
    "                    s += 1\n",
    "                    break\n",
    "        return s\n",
    "\n",
    "strs = [\"cba\",\"daf\",\"ghi\"]\n",
    "ob = Solution()\n",
    "print(ob.minDeletionSize(strs))"
   ]
  },
  {
   "cell_type": "code",
   "execution_count": null,
   "id": "3f158693-47a6-4030-8169-bf384b38709e",
   "metadata": {},
   "outputs": [],
   "source": []
  }
 ],
 "metadata": {
  "kernelspec": {
   "display_name": "Python 3 (ipykernel)",
   "language": "python",
   "name": "python3"
  },
  "language_info": {
   "codemirror_mode": {
    "name": "ipython",
    "version": 3
   },
   "file_extension": ".py",
   "mimetype": "text/x-python",
   "name": "python",
   "nbconvert_exporter": "python",
   "pygments_lexer": "ipython3",
   "version": "3.10.7"
  }
 },
 "nbformat": 4,
 "nbformat_minor": 5
}

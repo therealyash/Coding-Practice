{
 "cells": [
  {
   "cell_type": "markdown",
   "id": "7cc9afe3",
   "metadata": {},
   "source": [
    "### LeetCode Problems - Easy Level"
   ]
  },
  {
   "cell_type": "markdown",
   "id": "a855e22f",
   "metadata": {},
   "source": [
    "#### 01-01-2023"
   ]
  },
  {
   "cell_type": "markdown",
   "id": "6b38379f",
   "metadata": {},
   "source": [
    "Given an array of integers nums and an integer target, return indices of the two numbers such that they add up to target.\n",
    "You may assume that each input would have exactly one solution, and you may not use the same element twice.\n",
    "You can return the answer in any order.\n",
    "\n",
    "Example 1:\n",
    "\n",
    "Input: nums = [2,7,11,15], target = 9\n",
    "Output: [0,1]\n",
    "Explanation: Because nums[0] + nums[1] == 9, we return [0, 1].\n",
    "Example 2:\n",
    "\n",
    "Input: nums = [3,2,4], target = 6\n",
    "Output: [1,2]\n",
    "Example 3:\n",
    "\n",
    "Input: nums = [3,3], target = 6\n",
    "Output: [0,1]\n",
    "\n",
    "Follow-up: Can you come up with an algorithm that is less than O(n2) time complexity?"
   ]
  },
  {
   "cell_type": "code",
   "execution_count": 3,
   "id": "d8064fae",
   "metadata": {},
   "outputs": [
    {
     "data": {
      "text/plain": [
       "[2, 3]"
      ]
     },
     "execution_count": 3,
     "metadata": {},
     "output_type": "execute_result"
    }
   ],
   "source": [
    "class Solution(object):\n",
    "    \n",
    "    def twoSum(self, nums, target):\n",
    "        \"\"\"\n",
    "        :type nums: List[int]\n",
    "        :type target: int\n",
    "        :rtype: List[int]\n",
    "        \"\"\"\n",
    "        for i in range(len(nums)):\n",
    "            for j in range(i + 1, len(nums)):\n",
    "                if nums[j] == target - nums[i]:\n",
    "                    return [i, j]     \n",
    "s1 = Solution()\n",
    "lst = [2,7,11,15]\n",
    "target = 26\n",
    "s1.twoSum(lst,target)"
   ]
  },
  {
   "cell_type": "markdown",
   "id": "26712b0a",
   "metadata": {},
   "source": [
    "#### 02-01-2023"
   ]
  },
  {
   "cell_type": "markdown",
   "id": "1acd507f",
   "metadata": {},
   "source": [
    "520. Detect Capital\n",
    "Easy\n",
    "2.4K\n",
    "406\n",
    "Companies\n",
    "We define the usage of capitals in a word to be right when one of the following cases holds:\n",
    "\n",
    "All letters in this word are capitals, like \"USA\".\n",
    "All letters in this word are not capitals, like \"leetcode\".\n",
    "Only the first letter in this word is capital, like \"Google\".\n",
    "Given a string word, return true if the usage of capitals in it is right.\n",
    "\n",
    " \n",
    "\n",
    "Example 1:\n",
    "\n",
    "Input: word = \"USA\"\n",
    "Output: true\n",
    "Example 2:\n",
    "\n",
    "Input: word = \"FlaG\"\n",
    "Output: false\n",
    " \n",
    "\n",
    "Constraints:\n",
    "\n",
    "1 <= word.length <= 100\n",
    "word consists of lowercase and uppercase English letters."
   ]
  },
  {
   "cell_type": "code",
   "execution_count": 4,
   "id": "c4ff6cee",
   "metadata": {},
   "outputs": [
    {
     "name": "stdout",
     "output_type": "stream",
     "text": [
      "Enter a String: Yash\n",
      "False\n"
     ]
    }
   ],
   "source": [
    "class Solution(object):\n",
    "    def detectCapitalUse(self, word):\n",
    "        \"\"\"\n",
    "        :type word: str\n",
    "        :rtype: bool\n",
    "        \"\"\"\n",
    "        if word.isupper():\n",
    "            return True\n",
    "        elif word.islower():\n",
    "            return True\n",
    "        else:\n",
    "            return False\n",
    "s = input('Enter a String: ')\n",
    "a = Solution()\n",
    "print(a.detectCapitalUse(s))"
   ]
  },
  {
   "cell_type": "code",
   "execution_count": null,
   "id": "cf0211b3",
   "metadata": {},
   "outputs": [],
   "source": []
  }
 ],
 "metadata": {
  "kernelspec": {
   "display_name": "Python 3 (ipykernel)",
   "language": "python",
   "name": "python3"
  },
  "language_info": {
   "codemirror_mode": {
    "name": "ipython",
    "version": 3
   },
   "file_extension": ".py",
   "mimetype": "text/x-python",
   "name": "python",
   "nbconvert_exporter": "python",
   "pygments_lexer": "ipython3",
   "version": "3.10.7"
  }
 },
 "nbformat": 4,
 "nbformat_minor": 5
}

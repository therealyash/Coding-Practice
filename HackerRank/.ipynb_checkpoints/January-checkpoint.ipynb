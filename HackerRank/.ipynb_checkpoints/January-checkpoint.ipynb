{
 "cells": [
  {
   "cell_type": "markdown",
   "id": "c82cb95d",
   "metadata": {},
   "source": [
    "### HackerRank"
   ]
  },
  {
   "cell_type": "markdown",
   "id": "620c0c45",
   "metadata": {},
   "source": [
    "#### 01-01-23"
   ]
  },
  {
   "cell_type": "markdown",
   "id": "c6c2e8c8",
   "metadata": {},
   "source": [
    "#### Task\n",
    "Given an integer, n, perform the following conditional actions:\n",
    "\n",
    "If  is odd, print Weird\n",
    "If  is even and in the inclusive range of  to , print Not Weird\n",
    "If  is even and in the inclusive range of  to , print Weird\n",
    "If  is even and greater than , print Not Weird\n",
    "Input Format\n",
    "\n",
    "A single line containing a positive integer, .\n",
    "\n",
    "Constraints\n",
    "\n",
    "Output Format\n",
    "\n",
    "Print Weird if the number is weird. Otherwise, print Not Weird.\n",
    "\n",
    "Sample Input 0\n",
    "\n",
    "3\n",
    "\n",
    "Sample Output 0\n",
    "\n",
    "Weird"
   ]
  },
  {
   "cell_type": "code",
   "execution_count": null,
   "id": "d385bfc3",
   "metadata": {},
   "outputs": [],
   "source": [
    "import math\n",
    "import os\n",
    "import random\n",
    "import re\n",
    "import sys\n",
    "\n",
    "\n",
    "if __name__ == '__main__':\n",
    "    N = int(input().strip())\n",
    "\n",
    "    \n",
    "\n",
    "if N % 2:\n",
    "    print('Weird')\n",
    "elif not (N % 2) and N >= 2 and N <= 5:\n",
    "    print('Not Weird')\n",
    "elif not (N % 2) and N >= 6 and N <= 20:\n",
    "    print('Weird')\n",
    "elif not (N % 2) and N > 20:\n",
    "    print('Not Weird')\n"
   ]
  },
  {
   "cell_type": "markdown",
   "id": "d442afcc",
   "metadata": {},
   "source": [
    "#### Task 2\n",
    "\n",
    "The provided code stub reads two integers from STDIN,  and . Add code to print three lines where:\n",
    "\n",
    "The first line contains the sum of the two numbers.\n",
    "The second line contains the difference of the two numbers (first - second).\n",
    "The third line contains the product of the two numbers.\n",
    "Example\n",
    "\n",
    "\n",
    "Print the following:\n",
    "\n",
    "8\n",
    "-2\n",
    "15"
   ]
  },
  {
   "cell_type": "code",
   "execution_count": null,
   "id": "7817d0d0",
   "metadata": {},
   "outputs": [],
   "source": [
    "if __name__ == '__main__':\n",
    "    a = int(input())\n",
    "    b = int(input())\n",
    "    \n",
    "    \n",
    "print(a+b)\n",
    "print(a-b)\n",
    "print(a*b)\n"
   ]
  },
  {
   "cell_type": "markdown",
   "id": "9e7c0fff",
   "metadata": {},
   "source": [
    "#### Task 3\n",
    "The provided code stub reads two integers,  and , from STDIN.\n",
    "\n",
    "Add logic to print two lines. The first line should contain the result of integer division,  // . The second line should contain the result of float division,  / .\n",
    "\n",
    "No rounding or formatting is necessary.\n",
    "\n",
    "Example\n",
    "\n",
    "\n",
    "The result of the integer division .\n",
    "The result of the float division is .\n",
    "Print:\n",
    "\n",
    "0\n",
    "0.6\n",
    "Input Format\n",
    "\n",
    "The first line contains the first integer, .\n",
    "The second line contains the second integer, .\n",
    "\n",
    "Output Format\n",
    "\n",
    "Print the two lines as described above.\n",
    "\n",
    "Sample Input 0\n",
    "\n",
    "4\n",
    "\n",
    "3\n",
    "\n",
    "Sample Output 0\n",
    "\n",
    "1\n",
    "\n",
    "1.33333333333"
   ]
  },
  {
   "cell_type": "code",
   "execution_count": null,
   "id": "8c4a67e7",
   "metadata": {},
   "outputs": [],
   "source": [
    "if __name__ == '__main__':\n",
    "    a = int(input())\n",
    "    b = int(input())\n",
    "    \n",
    "print(a//b)\n",
    "print(a/b)   \n",
    "    "
   ]
  },
  {
   "cell_type": "markdown",
   "id": "978bb4b9",
   "metadata": {},
   "source": [
    "#### Task 4\n",
    "\n",
    "The provided code stub reads and integer, , from STDIN. For all non-negative integers , print.\n",
    "\n",
    "Example\n",
    "\n",
    "The list of non-negative integers that are less than  is . Print the square of each number on a separate line.\n",
    "\n",
    "0\n",
    "1\n",
    "4\n",
    "\n",
    "Input Format\n",
    "\n",
    "The first and only line contains the integer, .\n",
    "\n",
    "Constraints\n",
    "\n",
    "Output Format\n",
    "\n",
    "Print  lines, one corresponding to each .\n",
    "\n",
    "Sample Input 0\n",
    "\n",
    "5\n",
    "\n",
    "Sample Output 0\n",
    "\n",
    "0\n",
    "1\n",
    "4\n",
    "9\n",
    "16"
   ]
  },
  {
   "cell_type": "code",
   "execution_count": null,
   "id": "37022f8c",
   "metadata": {},
   "outputs": [],
   "source": [
    "if __name__ == '__main__':\n",
    "    n = int(input())\n",
    "    \n",
    "x = [i for i in range(n)]\n",
    "\n",
    "for i in x:\n",
    "    print(i*i)"
   ]
  },
  {
   "cell_type": "markdown",
   "id": "12c25138",
   "metadata": {},
   "source": [
    "#### 02-01-23"
   ]
  },
  {
   "cell_type": "markdown",
   "id": "8972407b",
   "metadata": {},
   "source": [
    "#### Task 5\n",
    "\n",
    "An extra day is added to the calendar almost every four years as February 29, and the day is called a leap day. It corrects the calendar for the fact that our planet takes approximately 365.25 days to orbit the sun. A leap year contains a leap day.\n",
    "\n",
    "In the Gregorian calendar, three conditions are used to identify leap years:\n",
    "\n",
    "The year can be evenly divided by 4, is a leap year, unless:\n",
    "The year can be evenly divided by 100, it is NOT a leap year, unless:\n",
    "The year is also evenly divisible by 400. Then it is a leap year.\n",
    "This means that in the Gregorian calendar, the years 2000 and 2400 are leap years, while 1800, 1900, 2100, 2200, 2300 and 2500 are NOT leap years. Source\n",
    "\n",
    "Task\n",
    "\n",
    "Given a year, determine whether it is a leap year. If it is a leap year, return the Boolean True, otherwise return False.\n",
    "\n",
    "Note that the code stub provided reads from STDIN and passes arguments to the is_leap function. It is only necessary to complete the is_leap function.\n",
    "\n",
    "Input Format\n",
    "\n",
    "Read , the year to test.\n",
    "\n",
    "Constraints\n",
    "\n",
    "\n",
    "Output Format\n",
    "\n",
    "The function must return a Boolean value (True/False). Output is handled by the provided code stub.\n",
    "\n",
    "Sample Input 0\n",
    "\n",
    "1990\n",
    "Sample Output 0\n",
    "\n",
    "False\n",
    "Explanation 0"
   ]
  },
  {
   "cell_type": "code",
   "execution_count": 3,
   "id": "5718a982",
   "metadata": {},
   "outputs": [
    {
     "name": "stdout",
     "output_type": "stream",
     "text": [
      "2000\n"
     ]
    },
    {
     "data": {
      "text/plain": [
       "True"
      ]
     },
     "execution_count": 3,
     "metadata": {},
     "output_type": "execute_result"
    }
   ],
   "source": [
    "def is_leap(year):\n",
    "    \n",
    "    # variable to check the leap year\n",
    "    leap = False\n",
    "    \n",
    "    if (year % 400 == 0) and (year % 100 == 0):      \n",
    "       leap = True\n",
    "       \n",
    "    elif (year % 4 ==0) and (year % 100 != 0):  \n",
    "        leap = True\n",
    "    else:      \n",
    "        pass\n",
    "    \n",
    "    return leap\n",
    "year = int(input())\n",
    "is_leap(year)"
   ]
  },
  {
   "cell_type": "markdown",
   "id": "3760a86a-6ee5-45bb-8688-60ebe149908d",
   "metadata": {},
   "source": [
    "#### 03-01-23"
   ]
  },
  {
   "cell_type": "markdown",
   "id": "337e1e59-e761-4096-ada6-8a29b01c8e0e",
   "metadata": {},
   "source": [
    "#### Task 6\n",
    "\n",
    "Take input n from user and print numbers till n in string format\n",
    "Ex - \n",
    "\n",
    "I/P\n",
    "\n",
    "n = 4\n",
    "\n",
    "O/P\n",
    "\n",
    "'1234'"
   ]
  },
  {
   "cell_type": "code",
   "execution_count": 2,
   "id": "72f81ce3-6168-489b-9e23-919270751d61",
   "metadata": {},
   "outputs": [
    {
     "name": "stdin",
     "output_type": "stream",
     "text": [
      "Enter a number:  6\n"
     ]
    },
    {
     "name": "stdout",
     "output_type": "stream",
     "text": [
      "123456\n"
     ]
    }
   ],
   "source": [
    "n = int(input('Enter a number: '))\n",
    "new_str =''\n",
    "i = 0\n",
    "while i < n:\n",
    "    i += 1\n",
    "    new_str = new_str + str(i) \n",
    "    \n",
    "print(new_str)"
   ]
  },
  {
   "cell_type": "code",
   "execution_count": null,
   "id": "9e2dc791-9b17-4d17-802a-1a03a433fb19",
   "metadata": {},
   "outputs": [],
   "source": []
  }
 ],
 "metadata": {
  "kernelspec": {
   "display_name": "Python 3 (ipykernel)",
   "language": "python",
   "name": "python3"
  },
  "language_info": {
   "codemirror_mode": {
    "name": "ipython",
    "version": 3
   },
   "file_extension": ".py",
   "mimetype": "text/x-python",
   "name": "python",
   "nbconvert_exporter": "python",
   "pygments_lexer": "ipython3",
   "version": "3.10.7"
  }
 },
 "nbformat": 4,
 "nbformat_minor": 5
}
